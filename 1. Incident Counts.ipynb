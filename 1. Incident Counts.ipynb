{
 "cells": [
  {
   "cell_type": "markdown",
   "metadata": {},
   "source": [
    "The below notebook is following the CRISP-DM process of data science analysis\n",
    "# Business Understanding"
   ]
  },
  {
   "cell_type": "markdown",
   "metadata": {},
   "source": [
    "In this notebook, I will answer the question: \"What the top 10 shops and delivery companies that are connected with high number of incidents? how does that look relative to their total contribution of orders?\" and the answer to it. This might reveal answers that are helpful to the business or operations team to guide certain beneficial decisions."
   ]
  },
  {
   "cell_type": "code",
   "execution_count": 1,
   "metadata": {},
   "outputs": [],
   "source": [
    "import pandas as pd\n",
    "import seaborn as sns\n",
    "import matplotlib.pyplot as plt\n",
    "import datetime\n"
   ]
  },
  {
   "cell_type": "markdown",
   "metadata": {},
   "source": [
    "# Data Understanding"
   ]
  },
  {
   "cell_type": "code",
   "execution_count": 3,
   "metadata": {},
   "outputs": [
    {
     "data": {
      "text/html": [
       "<div>\n",
       "<style scoped>\n",
       "    .dataframe tbody tr th:only-of-type {\n",
       "        vertical-align: middle;\n",
       "    }\n",
       "\n",
       "    .dataframe tbody tr th {\n",
       "        vertical-align: top;\n",
       "    }\n",
       "\n",
       "    .dataframe thead th {\n",
       "        text-align: right;\n",
       "    }\n",
       "</style>\n",
       "<table border=\"1\" class=\"dataframe\">\n",
       "  <thead>\n",
       "    <tr style=\"text-align: right;\">\n",
       "      <th></th>\n",
       "      <th>Order ID</th>\n",
       "      <th>Order Date</th>\n",
       "      <th>Shop</th>\n",
       "      <th>Pick Up Emirate</th>\n",
       "      <th>Drop Off Emirate</th>\n",
       "      <th>Drop Off Area</th>\n",
       "      <th>Delivery Company</th>\n",
       "      <th>Status</th>\n",
       "      <th>COD</th>\n",
       "      <th>Delivery Cost</th>\n",
       "      <th>Charge to Customer</th>\n",
       "      <th>Category</th>\n",
       "      <th>Delivery Route</th>\n",
       "      <th>Month - Formula</th>\n",
       "      <th>Month</th>\n",
       "    </tr>\n",
       "  </thead>\n",
       "  <tbody>\n",
       "    <tr>\n",
       "      <th>0</th>\n",
       "      <td>6713.0</td>\n",
       "      <td>1/2/2021</td>\n",
       "      <td>Shop001</td>\n",
       "      <td>Abu Dhabi</td>\n",
       "      <td>Dubai</td>\n",
       "      <td>NaN</td>\n",
       "      <td>DeliveryCompany01</td>\n",
       "      <td>Cancelled/Returned</td>\n",
       "      <td>NaN</td>\n",
       "      <td>NaN</td>\n",
       "      <td>NaN</td>\n",
       "      <td>SM</td>\n",
       "      <td>Abu Dhabi to Dubai</td>\n",
       "      <td>February</td>\n",
       "      <td>February</td>\n",
       "    </tr>\n",
       "    <tr>\n",
       "      <th>1</th>\n",
       "      <td>3015.0</td>\n",
       "      <td>1/9/2020</td>\n",
       "      <td>Shop002</td>\n",
       "      <td>Dubai</td>\n",
       "      <td>Fujeirah</td>\n",
       "      <td>Hamad bin abdulla road</td>\n",
       "      <td>DeliveryCompany01</td>\n",
       "      <td>Cancelled/Returned</td>\n",
       "      <td>NaN</td>\n",
       "      <td>AED 0.00</td>\n",
       "      <td>AED 0.00</td>\n",
       "      <td>NaN</td>\n",
       "      <td>Dubai to Fujeirah</td>\n",
       "      <td>September</td>\n",
       "      <td>September</td>\n",
       "    </tr>\n",
       "    <tr>\n",
       "      <th>2</th>\n",
       "      <td>3016.0</td>\n",
       "      <td>1/9/2020</td>\n",
       "      <td>Shop003</td>\n",
       "      <td>Abu Dhabi</td>\n",
       "      <td>Al Ain</td>\n",
       "      <td>Villa 8</td>\n",
       "      <td>DeliveryCompany01</td>\n",
       "      <td>Delivered</td>\n",
       "      <td>NaN</td>\n",
       "      <td>AED 32.00</td>\n",
       "      <td>AED 45.00</td>\n",
       "      <td>NaN</td>\n",
       "      <td>Abu Dhabi to Al Ain</td>\n",
       "      <td>September</td>\n",
       "      <td>September</td>\n",
       "    </tr>\n",
       "    <tr>\n",
       "      <th>3</th>\n",
       "      <td>3024.0</td>\n",
       "      <td>1/9/2020</td>\n",
       "      <td>Shop004</td>\n",
       "      <td>Abu Dhabi</td>\n",
       "      <td>Ras Al Khaimah</td>\n",
       "      <td>Alkharan</td>\n",
       "      <td>DeliveryCompany01</td>\n",
       "      <td>Delivered</td>\n",
       "      <td>NaN</td>\n",
       "      <td>AED 32.00</td>\n",
       "      <td>AED 60.00</td>\n",
       "      <td>NaN</td>\n",
       "      <td>Abu Dhabi to Ras Al Khaimah</td>\n",
       "      <td>September</td>\n",
       "      <td>September</td>\n",
       "    </tr>\n",
       "    <tr>\n",
       "      <th>4</th>\n",
       "      <td>3022.0</td>\n",
       "      <td>1/9/2020</td>\n",
       "      <td>Shop005</td>\n",
       "      <td>Sharjah</td>\n",
       "      <td>Abu Dhabi</td>\n",
       "      <td>NaN</td>\n",
       "      <td>DeliveryCompany02</td>\n",
       "      <td>Delivered</td>\n",
       "      <td>NaN</td>\n",
       "      <td>AED 30.00</td>\n",
       "      <td>AED 45.00</td>\n",
       "      <td>NaN</td>\n",
       "      <td>Sharjah to Abu Dhabi</td>\n",
       "      <td>September</td>\n",
       "      <td>September</td>\n",
       "    </tr>\n",
       "  </tbody>\n",
       "</table>\n",
       "</div>"
      ],
      "text/plain": [
       "   Order ID Order Date     Shop Pick Up Emirate Drop Off Emirate  \\\n",
       "0    6713.0   1/2/2021  Shop001       Abu Dhabi           Dubai    \n",
       "1    3015.0   1/9/2020  Shop002           Dubai         Fujeirah   \n",
       "2    3016.0   1/9/2020  Shop003       Abu Dhabi           Al Ain   \n",
       "3    3024.0   1/9/2020  Shop004       Abu Dhabi   Ras Al Khaimah   \n",
       "4    3022.0   1/9/2020  Shop005         Sharjah        Abu Dhabi   \n",
       "\n",
       "            Drop Off Area   Delivery Company              Status  COD  \\\n",
       "0                     NaN  DeliveryCompany01  Cancelled/Returned  NaN   \n",
       "1  Hamad bin abdulla road  DeliveryCompany01  Cancelled/Returned  NaN   \n",
       "2                 Villa 8  DeliveryCompany01           Delivered  NaN   \n",
       "3                Alkharan  DeliveryCompany01           Delivered  NaN   \n",
       "4                     NaN  DeliveryCompany02           Delivered  NaN   \n",
       "\n",
       "  Delivery Cost Charge to Customer Category               Delivery Route  \\\n",
       "0           NaN                NaN       SM          Abu Dhabi to Dubai    \n",
       "1      AED 0.00           AED 0.00      NaN            Dubai to Fujeirah   \n",
       "2     AED 32.00          AED 45.00      NaN          Abu Dhabi to Al Ain   \n",
       "3     AED 32.00          AED 60.00      NaN  Abu Dhabi to Ras Al Khaimah   \n",
       "4     AED 30.00          AED 45.00      NaN         Sharjah to Abu Dhabi   \n",
       "\n",
       "  Month - Formula       Month  \n",
       "0        February    February  \n",
       "1       September  September   \n",
       "2       September  September   \n",
       "3       September  September   \n",
       "4       September  September   "
      ]
     },
     "execution_count": 3,
     "metadata": {},
     "output_type": "execute_result"
    }
   ],
   "source": [
    "df = pd.read_csv('./anonymized/Orders-Grid view.csv')\n",
    "df.head()"
   ]
  },
  {
   "cell_type": "code",
   "execution_count": 4,
   "metadata": {},
   "outputs": [
    {
     "name": "stdout",
     "output_type": "stream",
     "text": [
      "<class 'pandas.core.frame.DataFrame'>\n",
      "RangeIndex: 5189 entries, 0 to 5188\n",
      "Data columns (total 15 columns):\n",
      " #   Column              Non-Null Count  Dtype  \n",
      "---  ------              --------------  -----  \n",
      " 0   Order ID            4582 non-null   float64\n",
      " 1   Order Date          5189 non-null   object \n",
      " 2   Shop                5189 non-null   object \n",
      " 3   Pick Up Emirate     5189 non-null   object \n",
      " 4   Drop Off Emirate    5179 non-null   object \n",
      " 5   Drop Off Area       4498 non-null   object \n",
      " 6   Delivery Company    5189 non-null   object \n",
      " 7   Status              5189 non-null   object \n",
      " 8   COD                 1475 non-null   object \n",
      " 9   Delivery Cost       4202 non-null   object \n",
      " 10  Charge to Customer  4278 non-null   object \n",
      " 11  Category            4523 non-null   object \n",
      " 12  Delivery Route      5189 non-null   object \n",
      " 13  Month - Formula     5189 non-null   object \n",
      " 14  Month               5189 non-null   object \n",
      "dtypes: float64(1), object(14)\n",
      "memory usage: 608.2+ KB\n"
     ]
    }
   ],
   "source": [
    "df.info()"
   ]
  },
  {
   "cell_type": "markdown",
   "metadata": {},
   "source": [
    "# Prepare Data"
   ]
  },
  {
   "cell_type": "code",
   "execution_count": 6,
   "metadata": {},
   "outputs": [],
   "source": [
    "#fixing the data type of Order Date\n",
    "df['Order Date']= pd.to_datetime(df['Order Date'],format='%d/%m/%Y', errors='raise') "
   ]
  },
  {
   "cell_type": "markdown",
   "metadata": {},
   "source": []
  },
  {
   "cell_type": "markdown",
   "metadata": {},
   "source": [
    "## Counting Incident Relatively by Shops\n",
    "\n",
    "Here, I try to understand which are the shops that have the highest undelivered state, then plot relatively to the total orders those shops bring in."
   ]
  },
  {
   "cell_type": "code",
   "execution_count": 7,
   "metadata": {},
   "outputs": [
    {
     "data": {
      "text/plain": [
       "Delivered             5027\n",
       "Cancelled/Returned     148\n",
       "Damaged                  9\n",
       "Assigned                 3\n",
       "Not Assigned             2\n",
       "Name: Status, dtype: int64"
      ]
     },
     "execution_count": 7,
     "metadata": {},
     "output_type": "execute_result"
    }
   ],
   "source": [
    "df['Status'].value_counts(dropna=False) #here I don't drop Null values because I don't trust that a 'Status' of Null is delivered"
   ]
  },
  {
   "cell_type": "code",
   "execution_count": 35,
   "metadata": {},
   "outputs": [],
   "source": [
    "sns.set_context({\"figure.figsize\": (20, 12)})\n",
    "\n",
    "rc={'axes.labelsize': 32, 'font.size': 20, 'legend.fontsize': 32.0, 'axes.titlesize': 32}\n",
    "sns.set_context(rc)\n",
    "\n",
    "undelivered_shops_counts = df[df['Status'] !='Delivered'][\"Shop\"].value_counts(dropna=False) #I don't drop the nulls because having null as 'Shop' might indicate some insight int he dataset\n",
    "undelivered_shops_counts = undelivered_shops_counts[:10,]\n",
    "\n",
    "total_shops_counts_with_undeliveries = df[df['Shop'].isin(undelivered_shops_counts.index)][\"Shop\"].value_counts()\n",
    "\n",
    "undelivered_providers_counts = df[df['Status'] !='Delivered'][\"Delivery Company\"].value_counts(dropna=True) #here I drop the Nulls because I am trying to identify specific delivery companies\n",
    "undelivered_providers_counts = undelivered_providers_counts[:10,] #choosing the top 10\n",
    "\n",
    "total_providers_counts_with_undeliveries = df[df['Delivery Company'].isin(undelivered_providers_counts.index)]['Delivery Company'].value_counts()"
   ]
  },
  {
   "cell_type": "markdown",
   "metadata": {},
   "source": [
    "# Model\n",
    "For this data analysis, there is no modeling"
   ]
  },
  {
   "cell_type": "markdown",
   "metadata": {},
   "source": [
    "# Results"
   ]
  },
  {
   "cell_type": "markdown",
   "metadata": {},
   "source": [
    "Let's visualize our results in an interpretable manner"
   ]
  },
  {
   "cell_type": "code",
   "execution_count": 36,
   "metadata": {},
   "outputs": [
    {
     "data": {
      "text/plain": [
       "<AxesSubplot:title={'center':'Shops: Incidents Number vs Total Orders Number'}, ylabel='Number of Orders'>"
      ]
     },
     "execution_count": 36,
     "metadata": {},
     "output_type": "execute_result"
    },
    {
     "data": {
      "image/png": "[encoded data removed]",
      "text/plain": [
       "<Figure size 1440x864 with 1 Axes>"
      ]
     },
     "metadata": {
      "needs_background": "light"
     },
     "output_type": "display_data"
    }
   ],
   "source": [
    "\n",
    "ax = sns.barplot(x = undelivered_shops_counts.index, y = total_shops_counts_with_undeliveries[undelivered_shops_counts.index] , color = \"blue\")\n",
    "ax.set_ylabel(\"Number of Orders\")\n",
    "ax.set_title(\"Shops: Incidents Number vs Total Orders Number\")\n",
    "sns.barplot(x = undelivered_shops_counts.index, y = undelivered_shops_counts.values , color = \"red\")"
   ]
  },
  {
   "cell_type": "markdown",
   "metadata": {},
   "source": [
    "Starting with shops, it was astonishing to see that, visually, a third of Shop127 orders, a fifth of orders by Shop029, and a twelfth of Shop049 end up in trouble. So, maybe not take those orders"
   ]
  },
  {
   "cell_type": "markdown",
   "metadata": {},
   "source": [
    "## Checking which service providers (delivery companies) cause the most trouble\n",
    "\n",
    "Now we do the same type of analysis for delivery companies, checking whether one of them might need attention"
   ]
  },
  {
   "cell_type": "code",
   "execution_count": 38,
   "metadata": {},
   "outputs": [
    {
     "data": {
      "text/plain": [
       "<AxesSubplot:title={'center':'Delivery Companies: Incidents Number vs Total Orders Number'}, ylabel='Number of Orders'>"
      ]
     },
     "execution_count": 38,
     "metadata": {},
     "output_type": "execute_result"
    },
    {
     "data": {
      "image/png": "[encoded data removed]",
      "text/plain": [
       "<Figure size 1440x864 with 1 Axes>"
      ]
     },
     "metadata": {
      "needs_background": "light"
     },
     "output_type": "display_data"
    }
   ],
   "source": [
    "\n",
    "rc={'font.size': 10.5, 'font.weight': 'bold'}\n",
    "sns.set_context(rc)\n",
    "\n",
    "ax = sns.barplot(x = undelivered_providers_counts.index, y = total_providers_counts_with_undeliveries[undelivered_providers_counts.index] , color = \"blue\")\n",
    "ax.set_ylabel(\"Number of Orders\")\n",
    "ax.set_title(\"Delivery Companies: Incidents Number vs Total Orders Number\")\n",
    "sns.barplot(x = undelivered_providers_counts.index, y = undelivered_providers_counts.values , color = \"red\")"
   ]
  },
  {
   "cell_type": "markdown",
   "metadata": {},
   "source": [
    "Everything seems normal here, we don’t see a specific delivery company that is unworthy of being a provider.\n",
    "\n",
    "Though, since this is the whole list of delivery companies, we can see that there is a lot of dependency on “DeliveryCompany01”, which might pose a risk."
   ]
  },
  {
   "cell_type": "code",
   "execution_count": null,
   "metadata": {},
   "outputs": [],
   "source": []
  },
  {
   "cell_type": "code",
   "execution_count": null,
   "metadata": {},
   "outputs": [],
   "source": []
  }
 ],
 "metadata": {
  "kernelspec": {
   "display_name": "Python 3",
   "language": "python",
   "name": "python3"
  },
  "language_info": {
   "codemirror_mode": {
    "name": "ipython",
    "version": 3
   },
   "file_extension": ".py",
   "mimetype": "text/x-python",
   "name": "python",
   "nbconvert_exporter": "python",
   "pygments_lexer": "ipython3",
   "version": "3.8.5"
  }
 },
 "nbformat": 4,
 "nbformat_minor": 4
}
